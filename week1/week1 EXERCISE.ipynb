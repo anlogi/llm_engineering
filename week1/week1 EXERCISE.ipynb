{
 "cells": [
  {
   "cell_type": "markdown",
   "id": "fe12c203-e6a6-452c-a655-afb8a03a4ff5",
   "metadata": {},
   "source": [
    "# End of week 1 exercise\n",
    "\n",
    "To demonstrate your familiarity with OpenAI API, and also Ollama, build a tool that takes a technical question,  \n",
    "and responds with an explanation. This is a tool that you will be able to use yourself during the course!"
   ]
  },
  {
   "cell_type": "code",
   "execution_count": 2,
   "id": "c1070317-3ed9-4659-abe3-828943230e03",
   "metadata": {},
   "outputs": [],
   "source": [
    "# imports\n",
    "import os\n",
    "\n",
    "import json\n",
    "from typing import List\n",
    "from dotenv import load_dotenv\n",
    "\n",
    "from IPython.display import Markdown, display, update_display\n",
    "from openai import OpenAI"
   ]
  },
  {
   "cell_type": "code",
   "execution_count": 5,
   "id": "4a456906-915a-4bfd-bb9d-57e505c5093f",
   "metadata": {},
   "outputs": [],
   "source": [
    "# constants\n",
    "\n",
    "MODEL_GPT = 'gpt-4o-mini'\n",
    "MODEL_LLAMA = 'llama3.2'\n",
    "\n",
    "\n",
    "openai = OpenAI(base_url='http://localhost:11434/v1', api_key='ollama')\n"
   ]
  },
  {
   "cell_type": "code",
   "execution_count": 4,
   "id": "a8d7923c-5f28-4c30-8556-342d7c8497c1",
   "metadata": {},
   "outputs": [
    {
     "name": "stdout",
     "output_type": "stream",
     "text": [
      "There might be a problem with your API key? Please visit the troubleshooting notebook!\n"
     ]
    }
   ],
   "source": [
    "# set up environment\n",
    "\n",
    "load_dotenv(override=True)\n",
    "api_key = os.getenv('OPENAI_API_KEY')\n",
    "\n",
    "if api_key and api_key.startswith('sk-proj-') and len(api_key)>10:\n",
    "    print(\"API key looks good so far\")\n",
    "else:\n",
    "    print(\"There might be a problem with your API key? Please visit the troubleshooting notebook!\")\n",
    "   "
   ]
  },
  {
   "cell_type": "code",
   "execution_count": 8,
   "id": "3f0d0137-52b0-47a8-81a8-11a90a010798",
   "metadata": {},
   "outputs": [],
   "source": [
    "# here is the question; type over this to ask something new\n",
    "\n",
    "question = \"\"\"\n",
    "Please explain what this code does and why:\n",
    "yield from {book.get(\"author\") for book in books if book.get(\"author\")}\n",
    "\"\"\""
   ]
  },
  {
   "cell_type": "code",
   "execution_count": 9,
   "id": "5ab1667c",
   "metadata": {},
   "outputs": [],
   "source": [
    "system_prompt = \"\"\"You are a helpful assistant that explains code snippets in detail.\n",
    "\"\"\"\n",
    "\n"
   ]
  },
  {
   "cell_type": "code",
   "execution_count": 10,
   "id": "60ce7000-a4a5-4cce-a261-e75ef45063b4",
   "metadata": {},
   "outputs": [],
   "source": [
    "# Get gpt-4o-mini to answer, with streaming"
   ]
  },
  {
   "cell_type": "code",
   "execution_count": null,
   "id": "8f7c8ea8-4082-4ad0-8751-3301adcf6538",
   "metadata": {},
   "outputs": [],
   "source": [
    "# Get Llama 3.2 to answer\n",
    "\n",
    "def assistant_agent(question):\n",
    "    \"\"\"\n",
    "    Function to get the assistant's response to a question.\n",
    "    \"\"\"\n",
    "    user_prompt = question.strip()  \n",
    "    stream = openai.chat.completions.create(\n",
    "        model=MODEL_LLAMA,\n",
    "        messages=[\n",
    "            {\"role\": \"system\", \"content\": system_prompt},\n",
    "            {\"role\": \"user\", \"content\": user_prompt}\n",
    "        ],\n",
    "        stream=True\n",
    "    )\n",
    "    # Stream the response and display it in real-time\n",
    "\n",
    "    response = \"\"\n",
    "    display_handle = display(Markdown(\"\"), display_id=True)\n",
    "    for chunk in stream:\n",
    "        response += chunk.choices[0].delta.content or ''\n",
    "        response = response.replace(\"```\",\"\").replace(\"markdown\", \"\")\n",
    "        update_display(Markdown(response), display_id=display_handle.display_id)"
   ]
  },
  {
   "cell_type": "code",
   "execution_count": 14,
   "id": "32bc38c6",
   "metadata": {},
   "outputs": [
    {
     "data": {
      "text/markdown": [
       "**Code Breakdown**\n",
       "\n",
       "This line of code is written in Python. It's using the `yield from` statement, which was introduced in Python 3.3 as part of the generator protocol.\n",
       "\n",
       "Here's what this specific code snippet does:\n",
       "\n",
       "```python\n",
       "yield from {book.get(\"author\") for book in books if book.get(\"author\")}\n",
       "```\n",
       "\n",
       "Let's break it down:\n",
       "\n",
       "* `books`: This is a collection (likely a list, set, or iterable) that contains dictionaries representing \"books\".\n",
       "* `{...}`: This is a dictionary comprehension, which is a concise way to create a new dictionary. It generates key-value pairs for each item in the collection.\n",
       "* `book.get(\"author\")`: For each book in the collection, this expression tries to retrieve the value associated with the key `\"author\"`. If the key doesn't exist (i.e., it's `None`), `get()` returns `None`.\n",
       "* `for book in books if book.get(\"author\")`: This is a filtering clause that ensures only books with an `\"author\"` key are considered.\n",
       "\n",
       "**What does `yield from` do?**\n",
       "\n",
       "Now, let's talk about why we need `yield from`. The `{...}` dictionary comprehension directly yields its elements one at a time. However, if the dictionary comprehension returns multiple values, these values would be yielded as separate items, rather than being unfolded into individual values.\n",
       "\n",
       "By using `yield from`, we \"fold\" these individual values together into a single iterable, which we can then use in other contexts (like iterating over it or putting its elements in another collection).\n",
       "\n",
       "**What does the resulting iterator do?**\n",
       "\n",
       "The final expression is an iterator that yields the `\"author\"` values for each book in the `books` collection. It will only yield these authors if their corresponding books exist and have a valid `\"author\"` key.\n",
       "\n",
       "Think of this code as taking a dataset of books, filtering those with author data, and then yielding those authors one at a time.\n",
       "\n",
       "**Equivalent non-`yield from` version**\n",
       "\n",
       "If you wanted to implement the same logic without `yield from`, you could do something like this:\n",
       "\n",
       "```python\n",
       "for book in books:\n",
       "    if \"author\" in book and book[\"author\"] is not None:\n",
       "        yield book[\"author\"]\n",
       "```\n",
       "\n",
       "This would also iterate over each book's authors, but it would use a more explicit loop instead of the dictionary comprehension + `yield from` syntax."
      ],
      "text/plain": [
       "<IPython.core.display.Markdown object>"
      ]
     },
     "metadata": {},
     "output_type": "display_data"
    }
   ],
   "source": [
    "assistant_agent(question)"
   ]
  },
  {
   "cell_type": "code",
   "execution_count": null,
   "id": "b8a219aa",
   "metadata": {},
   "outputs": [],
   "source": []
  }
 ],
 "metadata": {
  "kernelspec": {
   "display_name": "llms",
   "language": "python",
   "name": "python3"
  },
  "language_info": {
   "codemirror_mode": {
    "name": "ipython",
    "version": 3
   },
   "file_extension": ".py",
   "mimetype": "text/x-python",
   "name": "python",
   "nbconvert_exporter": "python",
   "pygments_lexer": "ipython3",
   "version": "3.12.3"
  }
 },
 "nbformat": 4,
 "nbformat_minor": 5
}
