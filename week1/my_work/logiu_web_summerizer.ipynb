{
 "cells": [
  {
   "cell_type": "markdown",
   "id": "b5c1d9b3-f81c-4993-b022-1577c7989d46",
   "metadata": {},
   "source": [
    "## Web summerizer"
   ]
  },
  {
   "cell_type": "code",
   "execution_count": 1,
   "id": "68a4b312-0c7c-461d-8757-c8f4a8b7f3b4",
   "metadata": {},
   "outputs": [],
   "source": [
    "from selenium import webdriver\n",
    "from selenium.webdriver.chrome.options import Options\n",
    "from selenium.webdriver.common.by import By\n",
    "import time\n",
    "from bs4 import BeautifulSoup\n",
    "import subprocess\n",
    "from IPython.display import Markdown, display\n",
    "from openai import OpenAI"
   ]
  },
  {
   "cell_type": "code",
   "execution_count": 2,
   "id": "12ea429b-e4dd-4fd8-a86a-25fa366e3938",
   "metadata": {},
   "outputs": [],
   "source": [
    "class WebPage:\n",
    "\n",
    "    \n",
    "    def __init__(self, url, driver=None, headless=True):\n",
    "        self.url = url\n",
    "        self.headless = headless\n",
    "        self.title = \"\"\n",
    "        self.html = \"\"\n",
    "        self.text = \"\"\n",
    "\n",
    "        self.driver = driver or self.create_driver()\n",
    "\n",
    "\n",
    "        self.extract_text()  # <-- estrazione automatica\n",
    "        self.driver.quit()\n",
    "\n",
    "    def load(self, wait_time=5):\n",
    "        self.driver.get(self.url)\n",
    "        time.sleep(wait_time)  # attesa per caricamento JS\n",
    "        self.html = self.driver.page_source\n",
    "\n",
    "    def extract_text(self):\n",
    "        if not self.html:\n",
    "            self.load()\n",
    "        soup = BeautifulSoup(self.html, 'html.parser')\n",
    "        self.title = soup.title.string if soup.title else \"No title found\"\n",
    "      \n",
    "        # Rimuove script/style\n",
    "        for tag in soup(['script', 'style', 'noscript']):\n",
    "            tag.decompose()\n",
    "\n",
    "        text = soup.get_text(separator='\\n')\n",
    "        # Pulizia base\n",
    "        lines = [line.strip() for line in text.splitlines()]\n",
    "        self.text = \"\\n\".join(line for line in lines if line)\n",
    "        return self.text\n",
    "\n",
    "    def create_driver(self, headless=True):\n",
    "        options = Options()\n",
    "        if self.headless:\n",
    "            options.add_argument(\"--headless\")\n",
    "        options.add_argument(\"--disable-gpu\")\n",
    "        options.add_argument(\"--no-sandbox\")\n",
    "        options.add_argument(\"--window-size=1920,1080\")\n",
    "        \n",
    "\n",
    "\n",
    "        driver = webdriver.Chrome(options=options)\n",
    "\n",
    "\n",
    "        return driver"
   ]
  },
  {
   "cell_type": "code",
   "execution_count": 3,
   "id": "6bf5f43d-6aa5-4dd5-a981-3792744f9ab2",
   "metadata": {},
   "outputs": [],
   "source": [
    "class WebsiteSummarizer:\n",
    "\n",
    "\n",
    "    def __init__(self, url, model=\"llama3.2\"):\n",
    "    \n",
    "        self.url = url\n",
    "        self.model = model\n",
    "        # self.system_prompt = \"You are an assistant that analyzes the contents of a news website, such as CNN. \\\n",
    "        # Identify and summarize the main news articles and headlines on the page, ignoring navigation menus, ads, or unrelated sections. \\\n",
    "        # Respond in markdown format. Focus on the key topics covered and categorize them if possible (e.g., politics, world, tech). \\\n",
    "        # If available, indicate when the page was published or last updated.\"\n",
    "    \n",
    "        self.system_prompt = \"You are an assistant that analyzes the contents of a website \\\n",
    "        and provides a short summary, ignoring text that might be navigation related. \\\n",
    "        Respond in markdown. Highlight all the products this website offered and also find when website is created.\"\n",
    "\n",
    "\n",
    "\n",
    "    def write_user_prompt(self,website):\n",
    "        website.extract_text()\n",
    "        user_prompt = f\"You are looking at a website titled {website.title}\"\n",
    "        user_prompt += \"\\nThe contents of this website is as follows; \\\n",
    "            please provide a short summary of this website in markdown. \\\n",
    "            If it includes news or announcements, then summarize these too.\\n\\n\"\n",
    "        user_prompt += website.text\n",
    "        return user_prompt\n",
    "    \n",
    "    def messages_for(self,website):\n",
    "        return [\n",
    "            {\"role\": \"system\", \"content\": self.system_prompt},\n",
    "            {\"role\": \"user\", \"content\": self.write_user_prompt(website)}\n",
    "        ]\n",
    "        \n",
    "    def summarize(self):\n",
    "        website = WebPage(self.url)\n",
    "        client = OpenAI(base_url='http://localhost:11434/v1', api_key='ollama')\n",
    "    \n",
    "    \n",
    "        response = client.chat.completions.create(\n",
    "            model=self.model,\n",
    "            messages = self.messages_for(website)\n",
    "        )\n",
    "        return response.choices[0].message.content\n",
    "    \n",
    "    def display_summary(self):\n",
    "        summary = self.summarize()\n",
    "        display(Markdown(summary))\n"
   ]
  },
  {
   "cell_type": "code",
   "execution_count": 5,
   "id": "5a7a055d-1f74-425c-874c-c8f0d07fba05",
   "metadata": {},
   "outputs": [
    {
     "data": {
      "text/markdown": [
       "<think>\n",
       "Okay, let's see. I have this query about The New York Times and media coverage. Hmm. They want me to analyze how they approach reporting on issues like terrorism, climate change, fires, and other sensitive topics. \n",
       "\n",
       "First thing that comes to mind is the role of The New York Times in coverage these critical issues. Their site has a lot of historical documents and political statements, which might showcase their approach. They probably have a commitment to truth-telling by providing a wealth of primary sources.\n",
       "\n",
       "I should consider how they structure their content. Are their articles longer and factual? Or do they tend to focus more on the personalities or reactions rather than the details? Looking at the specific stories mentioned—like the Paris attacks, the use of medical marijuana in San Francisco, and Maryland’s treatment programs—that gives me a clue about the source material they utilize.\n",
       "\n",
       "They might also prioritize emotional impact. Stories that touchleystone people or extreme events show their ability to make viewers feel the pain. However, I should check if they mention any biases towards any factions or if their reporting is neutral across these topics.\n",
       "\n",
       "On other subjects like climate change and fires, they balance between presenting data with scientific analysis and acknowledging human actions causing them. Maybe they have sections that focus on both factual reporting and social commentary.\n",
       "\n",
       "I also wonder about the user's intent here. Are they researching The New York Times' coverage style for a project? Or maybe looking to analyze this country’s handling of major events? Either way, understanding their background could help me provide more tailored insights.\n",
       "\n",
       "Perhaps I should also think about current trends in media reporting. Is there anything that comes up recently that the user might be interested in? If they're analyzing recent stories on terrorism or climate change, then maybe they’re looking for trends beyond the ones provided.\n",
       "\n",
       "Overall, my approach would involve a good mix of historical references, personal reactions to the events mentioned, scientific data, and sometimes social analysis. I need to make sure my response is comprehensive yet concise, covering key aspects without going into too much detail.\n",
       "</think>\n",
       "\n",
       "The [New York Times] often portrays issues like terrorism, climate change, fires, and other sensitive topics with a focus on factual reporting, personal reactions, and emotional impact rather than impartiality. For example, their coverage of terrorism may include documents or statements from real individuals involved, as well as historical precedents to build credibility. However, they sometimes balance this approach by acknowledging human actions while presenting facts. The [New York Times] is known for its commitment to truthful reporting and providing a wealth of primary sources that underpin their content.\n",
       "\n",
       "Regarding fires and climate change, the [New York Times] might highlight extreme events with factual details but also acknowledge the potential for human impact on such natural phenomena. They often balance these perspectives by presenting both the impacts of disasters and the proactive measures people can take to address issues like climate change. In some cases, the [New York Times] may touch upon social commentary or the emotional response of communities to such events.\n",
       "\n",
       "Overall, while their reporting leans toward factual accuracy and emotional resonance, they sometimes question human impact on real-world phenomena, often requiring readers to draw connections between presented facts and personal experiences to fully grasp the depth of coverage."
      ],
      "text/plain": [
       "<IPython.core.display.Markdown object>"
      ]
     },
     "metadata": {},
     "output_type": "display_data"
    }
   ],
   "source": [
    "#website_url = \"https://edwarddonner.com\"\n",
    "#website_url = \"https://cnn.com\"\n",
    "website_url = \"https://www.nytimes.com\"\n",
    "WebsiteSummarizer(website_url,).display_summary()"
   ]
  },
  {
   "cell_type": "code",
   "execution_count": null,
   "id": "2b8aa709-c172-4e4a-bd4f-3356540776ed",
   "metadata": {},
   "outputs": [],
   "source": []
  }
 ],
 "metadata": {
  "kernelspec": {
   "display_name": "llms",
   "language": "python",
   "name": "python3"
  },
  "language_info": {
   "codemirror_mode": {
    "name": "ipython",
    "version": 3
   },
   "file_extension": ".py",
   "mimetype": "text/x-python",
   "name": "python",
   "nbconvert_exporter": "python",
   "pygments_lexer": "ipython3",
   "version": "3.12.3"
  }
 },
 "nbformat": 4,
 "nbformat_minor": 5
}
