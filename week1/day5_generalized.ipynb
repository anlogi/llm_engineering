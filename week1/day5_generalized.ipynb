{
 "cells": [
  {
   "cell_type": "code",
   "execution_count": null,
   "id": "70e2c86e",
   "metadata": {},
   "outputs": [],
   "source": [
    "# imports\n",
    "# If these fail, please check you're running from an 'activated' environment with (llms) in the command prompt\n",
    "\n",
    "import os\n",
    "import requests\n",
    "import json\n",
    "from typing import List\n",
    "from dotenv import load_dotenv\n",
    "from bs4 import BeautifulSoup\n",
    "from IPython.display import Markdown, display, update_display\n",
    "from openai import OpenAI"
   ]
  },
  {
   "cell_type": "code",
   "execution_count": 17,
   "id": "399843a7",
   "metadata": {},
   "outputs": [
    {
     "name": "stdout",
     "output_type": "stream",
     "text": [
      "There might be a problem with your API key? Please visit the troubleshooting notebook!\n"
     ]
    }
   ],
   "source": [
    "# Initialize and constants\n",
    "\n",
    "load_dotenv(override=True)\n",
    "api_key = os.getenv('OPENAI_API_KEY')\n",
    "\n",
    "if api_key and api_key.startswith('sk-proj-') and len(api_key)>10:\n",
    "    print(\"API key looks good so far\")\n",
    "else:\n",
    "    print(\"There might be a problem with your API key? Please visit the troubleshooting notebook!\")\n",
    "    \n",
    "# MODEL = 'gpt-4o-mini'\n",
    "# openai = OpenAI()\n",
    "\n",
    "MODEL = \"llama3.2\"\n",
    "openai = OpenAI(base_url='http://localhost:11434/v1', api_key='ollama')\n"
   ]
  },
  {
   "cell_type": "code",
   "execution_count": 3,
   "id": "da4b48c6",
   "metadata": {},
   "outputs": [],
   "source": [
    "# A class to represent a Webpage\n",
    "\n",
    "# Some websites need you to use proper headers when fetching them:\n",
    "headers = {\n",
    " \"User-Agent\": \"Mozilla/5.0 (Windows NT 10.0; Win64; x64) AppleWebKit/537.36 (KHTML, like Gecko) Chrome/117.0.0.0 Safari/537.36\"\n",
    "}\n",
    "\n",
    "class Website:\n",
    "    \"\"\"\n",
    "    A utility class to represent a Website that we have scraped, now with links\n",
    "    \"\"\"\n",
    "\n",
    "    def __init__(self, url):\n",
    "        self.url = url\n",
    "        response = requests.get(url, headers=headers)\n",
    "        self.body = response.content\n",
    "        soup = BeautifulSoup(self.body, 'html.parser')\n",
    "        self.title = soup.title.string if soup.title else \"No title found\"\n",
    "        if soup.body:\n",
    "            for irrelevant in soup.body([\"script\", \"style\", \"img\", \"input\"]):\n",
    "                irrelevant.decompose()\n",
    "            self.text = soup.body.get_text(separator=\"\\n\", strip=True)\n",
    "        else:\n",
    "            self.text = \"\"\n",
    "        links = [link.get('href') for link in soup.find_all('a')]\n",
    "        self.links = [link for link in links if link]\n",
    "\n",
    "    def get_contents(self):\n",
    "        return f\"Webpage Title:\\n{self.title}\\nWebpage Contents:\\n{self.text}\\n\\n\""
   ]
  },
  {
   "cell_type": "code",
   "execution_count": 4,
   "id": "8e255e28",
   "metadata": {},
   "outputs": [
    {
     "data": {
      "text/plain": [
       "['https://edwarddonner.com/',\n",
       " 'https://edwarddonner.com/connect-four/',\n",
       " 'https://edwarddonner.com/outsmart/',\n",
       " 'https://edwarddonner.com/about-me-and-about-nebula/',\n",
       " 'https://edwarddonner.com/posts/',\n",
       " 'https://edwarddonner.com/',\n",
       " 'https://news.ycombinator.com',\n",
       " 'https://nebula.io/?utm_source=ed&utm_medium=referral',\n",
       " 'https://www.prnewswire.com/news-releases/wynden-stark-group-acquires-nyc-venture-backed-tech-startup-untapt-301269512.html',\n",
       " 'https://patents.google.com/patent/US20210049536A1/',\n",
       " 'https://www.linkedin.com/in/eddonner/',\n",
       " 'https://edwarddonner.com/2025/05/28/connecting-my-courses-become-an-llm-expert-and-leader/',\n",
       " 'https://edwarddonner.com/2025/05/28/connecting-my-courses-become-an-llm-expert-and-leader/',\n",
       " 'https://edwarddonner.com/2025/05/18/2025-ai-executive-briefing/',\n",
       " 'https://edwarddonner.com/2025/05/18/2025-ai-executive-briefing/',\n",
       " 'https://edwarddonner.com/2025/04/21/the-complete-agentic-ai-engineering-course/',\n",
       " 'https://edwarddonner.com/2025/04/21/the-complete-agentic-ai-engineering-course/',\n",
       " 'https://edwarddonner.com/2025/01/23/llm-workshop-hands-on-with-agents-resources/',\n",
       " 'https://edwarddonner.com/2025/01/23/llm-workshop-hands-on-with-agents-resources/',\n",
       " 'https://edwarddonner.com/',\n",
       " 'https://edwarddonner.com/connect-four/',\n",
       " 'https://edwarddonner.com/outsmart/',\n",
       " 'https://edwarddonner.com/about-me-and-about-nebula/',\n",
       " 'https://edwarddonner.com/posts/',\n",
       " 'mailto:hello@mygroovydomain.com',\n",
       " 'https://www.linkedin.com/in/eddonner/',\n",
       " 'https://twitter.com/edwarddonner',\n",
       " 'https://www.facebook.com/edward.donner.52']"
      ]
     },
     "execution_count": 4,
     "metadata": {},
     "output_type": "execute_result"
    }
   ],
   "source": [
    "ed = Website(\"https://edwarddonner.com\")\n",
    "ed.links"
   ]
  },
  {
   "cell_type": "markdown",
   "id": "78b31427",
   "metadata": {},
   "source": [
    "# Agent1 : links retriever"
   ]
  },
  {
   "cell_type": "code",
   "execution_count": 13,
   "id": "d509616f",
   "metadata": {},
   "outputs": [],
   "source": [
    "link_system_prompt = \"You are provided with a list of links found on a webpage. \\\n",
    "You are able to decide which of the links would be most relevant to include in a brochure about the company, \\\n",
    "such as links to an About page, or a Company page, or Careers/Jobs pages.\\n\"\n",
    "link_system_prompt += \"You should respond in JSON as in this example:\"\n",
    "link_system_prompt += \"\"\"\n",
    "{\n",
    "    \"links\": [\n",
    "        {\"type\": \"about page\", \"url\": \"https://full.url/goes/here/about\"},\n",
    "        {\"type\": \"careers page\": \"url\": \"https://another.full.url/careers\"}\n",
    "    ]\n",
    "}\n",
    "\"\"\""
   ]
  },
  {
   "cell_type": "code",
   "execution_count": 15,
   "id": "375c5250",
   "metadata": {},
   "outputs": [],
   "source": [
    "def get_links_user_prompt(website):\n",
    "    user_prompt = f\"Here is the list of links on the website of {website.url} - \"\n",
    "    user_prompt += \"please decide which of these are relevant web links for a brochure about the company, respond with the full https URL in JSON format. \\\n",
    "Do not include Terms of Service, Privacy, email links.\\n\"\n",
    "    user_prompt += \"Links (some might be relative links):\\n\"\n",
    "    user_prompt += \"\\n\".join(website.links)\n",
    "    return user_prompt"
   ]
  },
  {
   "cell_type": "code",
   "execution_count": 30,
   "id": "baba363b",
   "metadata": {},
   "outputs": [],
   "source": [
    "def agent1_get_links(url):\n",
    "    website = Website(url)\n",
    "    response = openai.chat.completions.create(\n",
    "        model=MODEL,\n",
    "        messages=[\n",
    "            {\"role\": \"system\", \"content\": link_system_prompt},\n",
    "            {\"role\": \"user\", \"content\": get_links_user_prompt(website)}\n",
    "        ],\n",
    "        response_format={\n",
    "            \"type\": \"json_object\"}\n",
    "    )\n",
    "    result = response.choices[0].message.content\n",
    "    return json.loads(result)"
   ]
  },
  {
   "cell_type": "markdown",
   "id": "bebe16e3",
   "metadata": {},
   "source": [
    "# Agent2 : create brochure"
   ]
  },
  {
   "cell_type": "code",
   "execution_count": 31,
   "id": "bdb09306",
   "metadata": {},
   "outputs": [],
   "source": [
    "def get_all_details(url):\n",
    "    result = \"Landing page:\\n\"\n",
    "    result += Website(url).get_contents()\n",
    "    links = agent1_get_links(url)\n",
    "    print(\"Found links:\", links)\n",
    "    for link in links[\"links\"]:\n",
    "        result += f\"\\n\\n{link['type']}\\n\"\n",
    "        try:\n",
    "            result += Website(link[\"url\"]).get_contents()\n",
    "        except Exception as e:\n",
    "            result += f\"Impossibile recuperare la pagina {link['url']}: {e}\\n\"\n",
    "    return result"
   ]
  },
  {
   "cell_type": "code",
   "execution_count": 32,
   "id": "4692361f",
   "metadata": {},
   "outputs": [],
   "source": [
    "# system_prompt = \"You are an assistant that analyzes the contents of several relevant pages from a company website \\\n",
    "# and creates a short brochure about the company for prospective customers, investors and recruits. Respond in markdown.\\\n",
    "# Include details of company culture, customers and careers/jobs if you have the information.\"\n",
    "\n",
    "# Or uncomment the lines below for a more humorous brochure - this demonstrates how easy it is to incorporate 'tone':\n",
    "\n",
    "system_prompt = \"You are an assistant that analyzes the contents of several relevant pages from a company website \\\n",
    "and creates a short humorous, entertaining, jokey brochure about the company for prospective customers, investors and recruits. Respond in markdown.\\\n",
    "Include details of company culture, customers and careers/jobs if you have the information.\"\n",
    "\n",
    "\n",
    "def get_brochure_user_prompt(company_name, url):\n",
    "    user_prompt = f\"You are looking at a company called: {company_name}\\n\"\n",
    "    user_prompt += f\"Here are the contents of its landing page and other relevant pages; use this information to build a short brochure of the company in markdown.\\n\"\n",
    "    user_prompt += get_all_details(url)\n",
    "    user_prompt = user_prompt[:5_000] # Truncate if more than 5,000 characters\n",
    "    return user_prompt"
   ]
  },
  {
   "cell_type": "code",
   "execution_count": 33,
   "id": "27a4e6bc",
   "metadata": {},
   "outputs": [],
   "source": [
    "def agent2_create_brochure(company_name, url):\n",
    "    response = openai.chat.completions.create(\n",
    "        model=MODEL,\n",
    "        messages=[\n",
    "            {\"role\": \"system\", \"content\": system_prompt},\n",
    "            {\"role\": \"user\", \"content\": get_brochure_user_prompt(company_name, url)}\n",
    "          ],\n",
    "    )\n",
    "    result = response.choices[0].message.content\n",
    "    display(Markdown(result))"
   ]
  },
  {
   "cell_type": "code",
   "execution_count": 34,
   "id": "81cae6bd",
   "metadata": {},
   "outputs": [
    {
     "name": "stdout",
     "output_type": "stream",
     "text": [
      "Found links: {'links': [{'type': 'About page', 'url': '/'}, {'type': 'Careers/Jobs page', 'url': '/join', 'replace the `<` and `>` with `/` for proper url format so https://huggingface.co/ becomes / about this is done as below: https://huggingface.co/ ': ''}, {'type': 'Company overview page', 'url': '/brand'}, {'type': 'Features or Model explanations page', 'url': '/models'}, {'type': 'Dataset page', 'url': '/datasets'}]}\n"
     ]
    },
    {
     "data": {
      "text/markdown": [
       "**Welcome to Hugging Face: The AI Community That's About to Change Everything**\n",
       "\n",
       "[Image of a hugging face with a superhero cape]\n",
       "\n",
       "At Hugging Face, we're on a mission to power the future of machine learning. We're not just building AI models, we're building a community that's passionate about making ML more accessible and fun.\n",
       "\n",
       "**Our Mission**\n",
       "\n",
       "We believe that everyone should be able to build and deploy their own machine learning models. That's why we've created a platform where you can collaborative on unlimited public models, datasets, and applications. Whether you're a researcher, entrepreneur, or just someone who loves data, we want to help you get started with ML.\n",
       "\n",
       "**Our Features**\n",
       "\n",
       "* **1 Million+ Models**: Access to thousands of pre-trained models from top organizations like Google, Meta, and Amazon.\n",
       "* **Infinite Datasets**: Browse 250k+ datasets for any ML task imaginable.\n",
       "* **Spaces**: Host and collaborate on unlimited public models, datasets, and applications.\n",
       "* **Compute**: Deploy on optimized inference endpoints or update your Spaces applications to a GPU in a few clicks.\n",
       "\n",
       "**Our Community**\n",
       "\n",
       "We're not just building tech, we're building a community of passionate people who share our vision for the future of AI. With over 50,000 organizations using Hugging Face, we've got the perfect blend of expertise and enthusiasm to make ML happen.\n",
       "\n",
       "**Join the Fun!**\n",
       "\n",
       "Ready to join the journey? Check out our [blog](/Learn), where we share insights on the latest trends in ML and how you can get started. Or, dive into our vast repository of [codebases](/Hub) and start building your first model today!\n",
       "\n",
       "[Button: Sign Up for Hugging Face]\n",
       "\n",
       "**Transforming Data into Insights**\n",
       "\n",
       "\"AI is not about finding answers; it's about asking better questions.\" - Peter Norvig\n",
       "\n",
       "At Hugging Face, we believe that machine learning should be accessible to everyone. Join our mission to empower the ML community and get ready to ask those better questions.\n",
       "\n",
       "[Social media links: Twitter | LinkedIn | GitHub ]"
      ],
      "text/plain": [
       "<IPython.core.display.Markdown object>"
      ]
     },
     "metadata": {},
     "output_type": "display_data"
    }
   ],
   "source": [
    "agent2_create_brochure(\"HuggingFace\", \"https://huggingface.co\")"
   ]
  },
  {
   "cell_type": "code",
   "execution_count": 36,
   "id": "0d657480",
   "metadata": {},
   "outputs": [],
   "source": [
    "# Agent3: translate brochure to Italian\n",
    "\n",
    "def agent3_translate_brochure_to_italian(company_name, url):\n",
    "    # First, generate the brochure in English\n",
    "    response_en = openai.chat.completions.create(\n",
    "        model=MODEL,\n",
    "        messages=[\n",
    "            {\"role\": \"system\", \"content\": system_prompt},\n",
    "            {\"role\": \"user\", \"content\": get_brochure_user_prompt(company_name, url)}\n",
    "        ],\n",
    "    )\n",
    "    brochure_en = response_en.choices[0].message.content\n",
    "\n",
    "    # Now, translate the brochure to Italian\n",
    "    translation_prompt = (\n",
    "        \"Translate the following markdown brochure into Italian. \"\n",
    "        \"Keep the markdown formatting:\\n\\n\"\n",
    "        f\"{brochure_en}\"\n",
    "    )\n",
    "    response_it = openai.chat.completions.create(\n",
    "        model=MODEL,\n",
    "        messages=[\n",
    "            {\"role\": \"system\", \"content\": \"You are a professional Italian translator.\"},\n",
    "            {\"role\": \"user\", \"content\": translation_prompt}\n",
    "        ],\n",
    "    )\n",
    "    brochure_it = response_it.choices[0].message.content\n",
    "    display(Markdown(brochure_it))"
   ]
  },
  {
   "cell_type": "code",
   "execution_count": 37,
   "id": "0d9aef57",
   "metadata": {},
   "outputs": [
    {
     "name": "stdout",
     "output_type": "stream",
     "text": [
      "Found links: {'links': [{'type': 'About page', 'url': 'https://huggingface.co'}, {'type': 'Company page', 'url': 'https://brand.huggingface.co'}, {'type': 'Changelog', 'url': 'https://changelog.huggingface.co'}, {'type': 'News/Blog', 'url': 'https://blog.huggingface.co'}, {'type': 'GitHub repository', 'url': 'https://github.com/huggingface'}, {'type': 'Discord community', 'url': 'https://join discord.huggingface.co'}, {'type': 'Twitter profile', 'url': 'https://twitter.com/huggingface'}, {'type': 'LinkedIn company page', 'url': 'https://www.linkedin.com/company/huggingface/'}, {'type': 'Enterprise information', 'url': 'https://huggingface.co/enterprise/'}, {'type': 'Pricing', 'url': 'https://huggingface.co/pricing'}]}\n"
     ]
    },
    {
     "data": {
      "text/markdown": [
       "**Benvenuti all'Hugging Face: dove l'intelligenza artificiale incontra la comunità**\n",
       "==============================================\n",
       "\n",
       "[Immagine della copertina: un gruppo di persone di diverse etnie vicine a una tavola, circondate da laptop e libri sulla programmazione]\n",
       "\n",
       "All'Hugging Face lavoriamo per costruire il futuro dell'intelligenza artificiale. La nostra piattaforma è lo spazio preferito degli appassionati della machine learning, dei ricercatori e degli sviluppatori.\n",
       "\n",
       "**La Storia**\n",
       "---------------\n",
       "\n",
       "Abbiamo iniziato con un semplice idea: creare una piattaforma collaborativa dove le persone da tutto il mondo potessero condividere modelli, dataset e applicazioni. Passando allo stato attuale, abbiamo costruito una comunità di oltre 50.000 organizzazioni ciascuna che contribuisce a accelerare l'innovazione dell'intelligenza artificiale.\n",
       "\n",
       "**Cosa Facciamo**\n",
       "-----------------\n",
       "\n",
       "*   Gestiamo la più grande collezione di modelli di machine learning del mondo, con oltre 1 milione di modelli disponibili per esplorare e distribuire.\n",
       "*   La nostra piattaforma fornisce molte opportunità all'interno della comunità ad apprendere dagli altri, condividere conoscenze e esporre il proprio lavoro a livello mondiale.\n",
       "*   Quale che sia la vostra carriera come ricercatore, sviluppatore o imprenditore, abbiamo i tool e le risorse per aiutarvi a sbloccare l'appieno del potenziale dell'intelligenza artificiale.\n",
       "\n",
       "**Unisciti alla Nostra Comunità**\n",
       "---------------------------\n",
       "\n",
       "Esplora la nostra viva comunità di appassionati dell'intelligenza artificiale, dei ricercatori e degli sviluppatori. Esplora il nostro archivio di modelli., contribuisci a progetti open-source o semplicemente connetevi con persone che amano l'intelligenza artificiale come voi.\n",
       "\n",
       "**I Vostri Benefici**\n",
       "\n",
       "*   **Accelerare le vostre Progetti**: Con accesso ai migliori modelli, dataset e tool, potrete costruire applicazioni migliori in modo più rapido.\n",
       "*   **Mostra i Vostri Lavori**: Sviluppereste i progetti sul nostro piattoforma per guadagnare visibilità con un pubblico di 50.000+ organizzazioni.\n",
       "*   **Cercate Di Staying AHead of the Curve**: Rimanete aggiornati sulle ultime tendenze nell'intelligenza artificiale, paper di ricerca e notizie industariali dalla nostra comunità.\n",
       "\n",
       "**I Vostri Benefici per le Ispettive**\n",
       "--------------------------------\n",
       "\n",
       "*   **Sfruttare Potenzialità dell'Intelligenza Artificiale**: Raggiungete il potenziale raccolto della Hugging Face collective sapersa accelerare pipeline innovativo dei vostri affari.\n",
       "*   **Competere con i Migliori**: Il nostro piattoforma fornisce un'opportunità esclusiva per collaborarsi con maggiori ricercatori e sviluppatori all'avanguardia dell'intelligenza artificiale.\n",
       "*   **Vostro Futuro Seguro**: Guadagnate benefici dai nostri livelli di sicurezza aziendale, controllo accesso e supporto dedicato.\n",
       "\n",
       "**Iniziate Adesso!**\n",
       "---------------------\n",
       "\n",
       "Preparati per questo viaggio emozionante? Accedi al nostro piattaforma oggi e uniscete alle migliaia delle organisations che stanno già ad empowering i loro affari con Hugging Face."
      ],
      "text/plain": [
       "<IPython.core.display.Markdown object>"
      ]
     },
     "metadata": {},
     "output_type": "display_data"
    }
   ],
   "source": [
    "agent3_translate_brochure_to_italian(\"HuggingFace\", \"https://huggingface.co\")"
   ]
  },
  {
   "cell_type": "markdown",
   "id": "dc1c3fb2",
   "metadata": {},
   "source": []
  }
 ],
 "metadata": {
  "kernelspec": {
   "display_name": "llms",
   "language": "python",
   "name": "python3"
  },
  "language_info": {
   "codemirror_mode": {
    "name": "ipython",
    "version": 3
   },
   "file_extension": ".py",
   "mimetype": "text/x-python",
   "name": "python",
   "nbconvert_exporter": "python",
   "pygments_lexer": "ipython3",
   "version": "3.12.3"
  }
 },
 "nbformat": 4,
 "nbformat_minor": 5
}
